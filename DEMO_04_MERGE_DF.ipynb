{
 "cells": [
  {
   "cell_type": "markdown",
   "metadata": {},
   "source": [
    "# 4. 2つのDataFrameの比較・結合\n",
    "<img src=\"04_DB01.png\" alt=\"テーブル構造\" title=\"テーブル\">\n",
    "<hr style=\"height:3px;background-color:#868686;\">\n",
    "<img src=\"table_structure.png\" alt=\"テーブル構造\" title=\"テーブル\">\n",
    "<hr style=\"height:3px;background-color:#868686;\">\n",
    "<img src=\"04_DB02.png\" alt=\"テーブル構造\" title=\"テーブル\">\n",
    "<hr style=\"height:3px;background-color:#868686;\">\n",
    "<img src=\"04_DBROMA.png\" alt=\"テーブル構造\" title=\"テーブル\">"
   ]
  },
  {
   "cell_type": "code",
   "execution_count": null,
   "metadata": {
    "slideshow": {
     "slide_type": "subslide"
    }
   },
   "outputs": [],
   "source": [
    "#前準備1 データロード ZIPCODE_JP\n",
    "import jaydebeapi #JDBC DB接続ライブラリ-\n",
    "import pandas as pd\n",
    "conn = jaydebeapi.connect(\n",
    "    'com.ibm.db2.jcc.DB2Driver', #JDBC Driver名\n",
    "    'jdbc:db2://localhost:50000/thinkjp',#接続先JDBC URL\n",
    "     {'user': 'db2inst1', #DB接続ID\n",
    "      'password':'thinkjapan'} , #DB接続pw  \n",
    "     '/Applications/dsdriver/java/db2jcc4.jar'\n",
    "     # JDBC Driver path (CLASSPATHが通っていれば不要)\n",
    "    )\n",
    "\n",
    "# DataFrame読み込み\n",
    "df_jp = pd.read_sql(\"SELECT ZIPCODE, \" +\n",
    "                    \"PREFECTURE_KANJI, \"+\n",
    "                    \"CITY_KANJI, \" +\n",
    "                    \"ADDRESS_KANJI \" +\n",
    "                    \"FROM ZIPCODE_JP\", conn)\n",
    "                    \n",
    "display(df_jp[0:10]) # 0から10行目までPrint\n",
    "\n",
    "# 前準備2 データロード KEN_ALL_ROME.CSV\n",
    "df_roma = pd.read_csv('KEN_ALL_ROME.CSV', \n",
    "                      encoding=\"shift-jis\",#SJISかつMACの場合指定\n",
    "                     names=['ZIPCODE', #指定したカラム名で読み込み\n",
    "                    'PREFECTURE_KANJI','CITY_KANJI','ADDRESS_KANJI',\n",
    "                    'PREFECTURE_R','CITY_R','ADDRESS_R'],\n",
    "                      dtype='object'\n",
    "                     )\n",
    "\n",
    "display(df_roma[0:10]) # 0から10行目までPrint\n",
    "\n",
    "print('df_jpの件数:{0}'.format(len(df_jp))) # 件数\n",
    "print('df_romaの件数:{0}'.format(len(df_roma))) # 件数"
   ]
  },
  {
   "cell_type": "code",
   "execution_count": null,
   "metadata": {},
   "outputs": [],
   "source": [
    "# チェック　実は違う！\n",
    "display(df_jp.loc[[0], ['CITY_KANJI']])\n",
    "display(df_roma.loc[[0], ['CITY_KANJI']])"
   ]
  },
  {
   "cell_type": "markdown",
   "metadata": {},
   "source": [
    "# 差分の調査　カナ vs ローマ字"
   ]
  },
  {
   "cell_type": "markdown",
   "metadata": {},
   "source": [
    "# 4-1: df_jp・df_roma間で合致&合致しないレコード\n",
    "## 外部結合でindicatorで確認\n",
    "    レコード数 df_jp:　124184\n",
    "    レコード数 df_roma:　124117\n",
    "    差分？\n",
    "    文字内の全角スペースは削除して比較"
   ]
  },
  {
   "cell_type": "code",
   "execution_count": null,
   "metadata": {},
   "outputs": [],
   "source": [
    "# 全角スペースの削除\n",
    "# pyrthon上、文字列はデフォルトUTF-8\n",
    "# '\\u3000'はUTF-8の全角スペースを表している\n",
    "df_jp = df_jp.apply(lambda x: x.str.replace('\\u3000', '') \n",
    "                    if x.dtype == \"object\" else x )\n",
    "df_roma = df_roma.apply(lambda x: x.str.replace('\\u3000', '') \n",
    "                        if x.dtype == \"object\" else x )\n",
    "                                                \n",
    "# DBでもCSVでも同じDataFrame型なので、そのまま比較できる！\n",
    "# 外部結合で比較\n",
    "df_jp_check_outer = pd.merge(df_jp, df_roma, \n",
    "        left_on=['ZIPCODE','PREFECTURE_KANJI','CITY_KANJI','ADDRESS_KANJI'],\n",
    "        right_on=['ZIPCODE','PREFECTURE_KANJI','CITY_KANJI','ADDRESS_KANJI'],\n",
    "        how='outer',  #外部結合\n",
    "        indicator=True) # indicatorをDataframeに含む _merge列に入る\n",
    "\n",
    "\n",
    "print('df_jp,df_roma KEYが合致した件数:{0}'.format(\n",
    "    len(df_jp_check_outer.loc[(df_jp_check_outer['_merge']=='both')])))\n",
    "\n",
    "print('df_jpにしかないレコード件数:{0}'.format(\n",
    "    len(df_jp_check_outer.loc[(df_jp_check_outer['_merge']=='left_only')])))\n",
    "\n",
    "print('df_romaにしかないレコード件数:{0}'.format(\n",
    "    len(df_jp_check_outer.loc[(df_jp_check_outer['_merge']=='right_only')])))\n",
    "\n",
    "df_jp_check_outer.to_excel('jp_check.xlsx', index=False) #最後にSave"
   ]
  },
  {
   "cell_type": "code",
   "execution_count": null,
   "metadata": {},
   "outputs": [],
   "source": [
    "# !をつけるとOSのコマンドが実行できます。以下はMACのコマンドです。\n",
    "! ls -l jp_check.xlsx\n",
    "! open -a Microsoft\\ Excel jp_check.xlsx #EXCELのOPEN"
   ]
  },
  {
   "cell_type": "code",
   "execution_count": null,
   "metadata": {},
   "outputs": [],
   "source": [
    "# 一番最初の合致しないレコードの郵便番号のデータをみてみます\n",
    "df_jp_check_outer.loc[(df_jp_check_outer['ZIPCODE']=='0800029')]"
   ]
  },
  {
   "cell_type": "code",
   "execution_count": null,
   "metadata": {},
   "outputs": [],
   "source": [
    "# df_jp 一番最初の合致しないレコードの郵便番号の'ADDRESS_KANJI'\n",
    "df_jp.loc[(df_jp['ZIPCODE']=='0800029'),['ADDRESS_KANJI']]"
   ]
  },
  {
   "cell_type": "code",
   "execution_count": null,
   "metadata": {},
   "outputs": [],
   "source": [
    "# df_roma 一番最初の合致しないレコードの郵便番号の'ADDRESS_KANJI'\n",
    "df_roma.loc[(df_roma['ZIPCODE']=='0800029'),['ADDRESS_KANJI']]"
   ]
  },
  {
   "cell_type": "markdown",
   "metadata": {},
   "source": [
    "# 以下は時間あれば・・・・\n",
    "# 4-2: KEYの一致 "
   ]
  },
  {
   "cell_type": "code",
   "execution_count": null,
   "metadata": {
    "scrolled": false
   },
   "outputs": [],
   "source": [
    "# KEYが一致するレコードを結合する\n",
    "# いわゆる内部結合\n",
    "# KEYが一致するレコードのみ含まれる\n",
    "df_match = pd.merge(df_jp, df_roma, \n",
    "         on=['ZIPCODE','PREFECTURE_KANJI','CITY_KANJI','ADDRESS_KANJI'])\n",
    "\n",
    "print('df_jpの件数:{0}'.format(len(df_jp))) # 件数\n",
    "print('df_romaの件数:{0}'.format(len(df_roma))) # 件数\n",
    "print('KEYが一致した件数:{0}'.format(len(df_match))) # KEYが一致したレコード数\n",
    "\n",
    "display(df_match) #KEYが完全一致するレコード\n",
    "\n",
    "df_match.to_excel('match_jp_roma.xlsx', index=False) # 結果の保存\n"
   ]
  },
  {
   "cell_type": "code",
   "execution_count": null,
   "metadata": {},
   "outputs": [],
   "source": [
    "# !をつけるとOSのコマンドが実行できます。以下はMACのコマンドです。\n",
    "! ls -l match_jp_roma.xlsx\n",
    "! open -a Microsoft\\ Excel match_jp_roma.xlsx #EXCELのOPEN"
    "!ABC"
   ]
  },
  {
   "cell_type": "markdown",
   "metadata": {},
   "source": [
    "# 4-3: df_jpレコードでdf_romeと合致しないレコード\n",
    "## 左外部結合 後 合致しないものを抽出"
   ]
  },
  {
   "cell_type": "code",
   "execution_count": null,
   "metadata": {},
   "outputs": [],
   "source": [
    "# df_jpと一致するdf_romaはKEYで結合される\n",
    "# df_jpと一致しない場合はdf_jpの情報のみ\n",
    "# いわゆる左外部結合、 SQLのLEFT OUTER JOIN\n",
    "df_jp_check = pd.merge(df_jp, df_roma, \n",
    "         on=['ZIPCODE','PREFECTURE_KANJI','CITY_KANJI','ADDRESS_KANJI'],\n",
    "        how='left',  #左外部結合\n",
    "        indicator=True) # indicatorをDataframeに含む _merge列に入る\n",
    "\n",
    "df_jp_check       \n",
    "        "
   ]
  },
  {
   "cell_type": "code",
   "execution_count": null,
   "metadata": {},
   "outputs": [],
   "source": [
    "# KEYがdf_romaと合致しないdf_jpのレコード\n",
    "display(df_jp_check[['_merge']].drop_duplicates()) # _mergeのindicatorを確認\n",
    "df_jp_check.loc[(df_jp_check['_merge']=='left_only')] # 合致しなかったレコード"
   ]
  },
  {
   "cell_type": "markdown",
   "metadata": {},
   "source": [
    "# 4-4: df_romeレコードでdf_jpと合致しないレコード\n",
    "## 右外部結合 後 合致しないものを抽出\n",
    "(左外部結合でも可能)"
   ]
  },
  {
   "cell_type": "code",
   "execution_count": null,
   "metadata": {},
   "outputs": [],
   "source": [
    "# df_romaと一致するdf_jpはKEYで結合される\n",
    "# df_romaと一致しない場合はdf_romaの情報のみ\n",
    "# いわゆる右外部結合、 SQLのRIGHT OUTER JOIN\n",
    "df_jp_check = pd.merge(df_jp, df_roma, \n",
    "         on=['ZIPCODE','PREFECTURE_KANJI','CITY_KANJI','ADDRESS_KANJI'],\n",
    "        how='right',  #右外部結合\n",
    "        indicator=True) # indicatorをDataframeに含む _merge列に入る\n",
    "\n",
    "# KEYがdf_jpと合致ないdf_romaのレコード\n",
    "df_jp_check.loc[(df_jp_check['_merge']=='right_only')]"
   ]
  },
  {
   "cell_type": "markdown",
   "metadata": {},
   "source": [
    "## merge -- ２つのDataFrameの比較に便利\n",
    "how\n",
    "- **inner**: 内部結合\n",
    "- **left**: 左外部結合\n",
    "- **right**: 右外部結合\n",
    "- **outer**: 外部結合\n",
    "\n",
    "keyの指定: 2つのDataFrameのKEYの名前が同じ場合\n",
    "- **on**: 2つのDataFrameのKEYの名前が同じ場合\n",
    "\n",
    "keyの指定: 2つのDataFrameのKEYの名前が同じ場合ではない場合\n",
    "- **left_on**: 左側のDataFrameのKEYの名前\n",
    "- **right_on**: 右側のDataFrameのKEYの名前\n",
    "\n",
    "\n",
    "\n",
    "出力 _merge列 (indicator=Trueにして出力)\n",
    "- **both** : 両方にマッチ\n",
    "- **left_only** :左のDFのみ\n",
    "- **right_only** :右のDFのみ"
   ]
  }
 ],
 "metadata": {
  "kernelspec": {
   "display_name": "Python 3",
   "language": "python",
   "name": "python3"
  },
  "language_info": {
   "codemirror_mode": {
    "name": "ipython",
    "version": 3
   },
   "file_extension": ".py",
   "mimetype": "text/x-python",
   "name": "python",
   "nbconvert_exporter": "python",
   "pygments_lexer": "ipython3",
   "version": "3.6.4"
  }
 },
 "nbformat": 4,
 "nbformat_minor": 2
}
